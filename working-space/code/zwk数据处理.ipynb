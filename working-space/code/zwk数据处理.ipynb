{
 "cells": [
  {
   "cell_type": "code",
   "execution_count": 3,
   "metadata": {},
   "outputs": [],
   "source": [
    "import pandas as pd\n",
    "import nltk\n",
    "\n",
    "%matplotlib inline"
   ]
  },
  {
   "cell_type": "code",
   "execution_count": 5,
   "metadata": {},
   "outputs": [],
   "source": [
    "datas =pd.read_csv(\"../Problem_C_Data/microwave.tsv\", sep='\\t')"
   ]
  },
  {
   "cell_type": "code",
   "execution_count": 3,
   "metadata": {},
   "outputs": [],
   "source": [
    "datas =pd.read_csv('pacifier.tsv', sep='\\t')"
   ]
  },
  {
   "cell_type": "code",
   "execution_count": 52,
   "metadata": {},
   "outputs": [],
   "source": [
    "datas =pd.read_csv('hair_dryer.tsv', sep='\\t')"
   ]
  },
  {
   "cell_type": "code",
   "execution_count": null,
   "metadata": {},
   "outputs": [],
   "source": [
    "datas.head()"
   ]
  },
  {
   "cell_type": "markdown",
   "metadata": {},
   "source": [
    "# 堆叠条形图"
   ]
  },
  {
   "cell_type": "code",
   "execution_count": 6,
   "metadata": {},
   "outputs": [],
   "source": [
    "datas = datas.values"
   ]
  },
  {
   "cell_type": "code",
   "execution_count": 7,
   "metadata": {},
   "outputs": [
    {
     "data": {
      "text/plain": [
       "1615"
      ]
     },
     "execution_count": 7,
     "metadata": {},
     "output_type": "execute_result"
    }
   ],
   "source": [
    "len(datas)"
   ]
  },
  {
   "cell_type": "code",
   "execution_count": 8,
   "metadata": {},
   "outputs": [
    {
     "data": {
      "text/plain": [
       "array(['US', 21879631, 'RY52KZABZK8QF', 'B0052G14E8', 423421857,\n",
       "       'danby 0.7 cu.ft. countertop microwave', 'Major Appliances', 1, 0,\n",
       "       0, 'N', 'Y',\n",
       "       'Do not recommend it. go use your money for something more ...',\n",
       "       '3 of the buttons stopped working after a month of using it. It was used twice a day. Do not recommend it. go use your money for something more durable. Oh and also big plates do not fit in it.',\n",
       "       '8/31/2015'], dtype=object)"
      ]
     },
     "execution_count": 8,
     "metadata": {},
     "output_type": "execute_result"
    }
   ],
   "source": [
    "datas[0]"
   ]
  },
  {
   "cell_type": "code",
   "execution_count": 9,
   "metadata": {},
   "outputs": [],
   "source": [
    "product = {}\n",
    "product_count = {}\n",
    "for data in datas:\n",
    "    if data[4] not in product:\n",
    "        product[data[4]]=[0,0,0,0,0]\n",
    "        product_count[data[4]]=0\n",
    "    if data[4] in product:\n",
    "        product[data[4]][data[7]-1]+=1\n",
    "        product_count[data[4]]+=1"
   ]
  },
  {
   "cell_type": "code",
   "execution_count": 10,
   "metadata": {},
   "outputs": [
    {
     "data": {
      "text/plain": [
       "{423421857: [50, 18, 41, 111, 174],\n",
       " 827502283: [7, 6, 4, 13, 46],\n",
       " 295520151: [22, 2, 3, 7, 40],\n",
       " 771401205: [8, 3, 4, 13, 50],\n",
       " 523301568: [3, 2, 3, 13, 53],\n",
       " 565072108: [14, 2, 2, 3, 7],\n",
       " 692404913: [6, 4, 2, 12, 20],\n",
       " 930071734: [0, 2, 1, 4, 25],\n",
       " 109226352: [11, 7, 2, 16, 43],\n",
       " 984005611: [0, 0, 1, 3, 15],\n",
       " 991090482: [3, 1, 2, 3, 7],\n",
       " 943347999: [19, 8, 7, 7, 8],\n",
       " 166483932: [5, 1, 1, 1, 5],\n",
       " 542519500: [6, 1, 2, 10, 4],\n",
       " 459626087: [4, 3, 4, 10, 20],\n",
       " 838179571: [7, 2, 1, 2, 0],\n",
       " 731025324: [2, 0, 3, 2, 12],\n",
       " 464779766: [5, 1, 6, 6, 10],\n",
       " 305608994: [1, 2, 8, 7, 27],\n",
       " 168181302: [2, 2, 1, 6, 3],\n",
       " 665261008: [0, 0, 0, 1, 0],\n",
       " 313983847: [0, 0, 0, 1, 0],\n",
       " 149559260: [0, 0, 0, 0, 1],\n",
       " 311592014: [1, 0, 0, 0, 0],\n",
       " 454581724: [0, 0, 0, 1, 0],\n",
       " 544821753: [57, 7, 4, 3, 9],\n",
       " 147401377: [9, 1, 0, 0, 0],\n",
       " 494668275: [17, 5, 1, 1, 2],\n",
       " 309267414: [0, 0, 1, 2, 8],\n",
       " 801135043: [1, 0, 1, 3, 9],\n",
       " 392967251: [18, 3, 2, 1, 1],\n",
       " 784164614: [11, 0, 1, 1, 2],\n",
       " 921964554: [20, 1, 0, 0, 0],\n",
       " 155528792: [5, 1, 3, 1, 1],\n",
       " 809249591: [2, 0, 1, 4, 6],\n",
       " 242727854: [14, 5, 3, 2, 3],\n",
       " 215953885: [4, 4, 2, 0, 4],\n",
       " 522487135: [10, 2, 1, 2, 0],\n",
       " 486381187: [12, 4, 2, 8, 7],\n",
       " 981162112: [7, 1, 3, 2, 2],\n",
       " 994339247: [8, 0, 1, 0, 3],\n",
       " 618770050: [14, 4, 2, 1, 3],\n",
       " 572011672: [1, 0, 2, 1, 8],\n",
       " 632928046: [0, 0, 0, 0, 1],\n",
       " 664466484: [0, 0, 0, 0, 1],\n",
       " 760984384: [5, 1, 2, 2, 2],\n",
       " 690479711: [4, 4, 1, 3, 18],\n",
       " 721617315: [1, 0, 0, 6, 6],\n",
       " 494028413: [1, 0, 0, 0, 0],\n",
       " 862802057: [0, 0, 0, 0, 1],\n",
       " 550562680: [1, 0, 0, 0, 0],\n",
       " 542731946: [0, 0, 0, 1, 0],\n",
       " 788261054: [0, 0, 0, 1, 0],\n",
       " 539049610: [0, 0, 1, 0, 0],\n",
       " 379992322: [4, 2, 2, 3, 0]}"
      ]
     },
     "execution_count": 10,
     "metadata": {},
     "output_type": "execute_result"
    }
   ],
   "source": [
    "product"
   ]
  },
  {
   "cell_type": "code",
   "execution_count": 14,
   "metadata": {},
   "outputs": [
    {
     "data": {
      "text/plain": [
       "[(423421857, 394),\n",
       " (544821753, 80),\n",
       " (109226352, 79),\n",
       " (771401205, 78),\n",
       " (827502283, 76),\n",
       " (295520151, 74),\n",
       " (523301568, 74),\n",
       " (943347999, 49),\n",
       " (305608994, 45),\n",
       " (692404913, 44),\n",
       " (459626087, 41),\n",
       " (486381187, 33),\n",
       " (930071734, 32),\n",
       " (690479711, 30),\n",
       " (565072108, 28),\n",
       " (464779766, 28),\n",
       " (242727854, 27),\n",
       " (494668275, 26),\n",
       " (392967251, 25),\n",
       " (618770050, 24),\n",
       " (542519500, 23),\n",
       " (921964554, 21),\n",
       " (984005611, 19),\n",
       " (731025324, 19),\n",
       " (991090482, 16),\n",
       " (784164614, 15),\n",
       " (522487135, 15),\n",
       " (981162112, 15),\n",
       " (168181302, 14),\n",
       " (801135043, 14),\n",
       " (215953885, 14),\n",
       " (166483932, 13),\n",
       " (809249591, 13),\n",
       " (721617315, 13),\n",
       " (838179571, 12),\n",
       " (994339247, 12),\n",
       " (572011672, 12),\n",
       " (760984384, 12),\n",
       " (309267414, 11),\n",
       " (155528792, 11),\n",
       " (379992322, 11),\n",
       " (147401377, 10),\n",
       " (665261008, 1),\n",
       " (313983847, 1),\n",
       " (149559260, 1),\n",
       " (311592014, 1),\n",
       " (454581724, 1),\n",
       " (632928046, 1),\n",
       " (664466484, 1),\n",
       " (494028413, 1),\n",
       " (862802057, 1),\n",
       " (550562680, 1),\n",
       " (542731946, 1),\n",
       " (788261054, 1),\n",
       " (539049610, 1)]"
      ]
     },
     "execution_count": 14,
     "metadata": {},
     "output_type": "execute_result"
    }
   ],
   "source": [
    "sorted_count = sorted(product_count.items(), key=lambda item:item[1],reverse=True)\n",
    "sorted_count"
   ]
  },
  {
   "cell_type": "code",
   "execution_count": 11,
   "metadata": {},
   "outputs": [
    {
     "name": "stdout",
     "output_type": "stream",
     "text": [
      "423421857\n",
      "827502283\n",
      "295520151\n",
      "771401205\n",
      "523301568\n",
      "692404913\n",
      "930071734\n",
      "109226352\n",
      "943347999\n",
      "459626087\n",
      "305608994\n",
      "544821753\n",
      "486381187\n"
     ]
    }
   ],
   "source": [
    "for k,w in product_count.items():\n",
    "    if w >30:\n",
    "        print(k)"
   ]
  },
  {
   "cell_type": "code",
   "execution_count": 77,
   "metadata": {},
   "outputs": [],
   "source": [
    "data1=[]\n",
    "data2=[]\n",
    "data3=[]\n",
    "data4=[]\n",
    "data5=[]\n",
    "name= []\n",
    "for k,v in enumerate(sorted(product_count,key=product_count.__getitem__,reverse=True)):\n",
    "    if k >20:\n",
    "        break\n",
    "    data1.append(product[v][0])\n",
    "    data2.append(product[v][1])\n",
    "    data3.append(product[v][2])\n",
    "    data4.append(product[v][3])\n",
    "    data5.append(product[v][4])\n",
    "    name.append(v)\n"
   ]
  },
  {
   "cell_type": "code",
   "execution_count": 78,
   "metadata": {
    "scrolled": true
   },
   "outputs": [
    {
     "data": {
      "text/plain": [
       "21"
      ]
     },
     "execution_count": 78,
     "metadata": {},
     "output_type": "execute_result"
    }
   ],
   "source": [
    "len(name)"
   ]
  },
  {
   "cell_type": "code",
   "execution_count": 79,
   "metadata": {},
   "outputs": [],
   "source": [
    "rating1 = {'name':'rating of 1','type':'bar','stack':'总量',\n",
    "           'label':{'show':True,'position':'insideRight'},'data':data1[::-1]}"
   ]
  },
  {
   "cell_type": "code",
   "execution_count": 80,
   "metadata": {},
   "outputs": [],
   "source": [
    "rating2 = {'name':'rating of 2','type':'bar','stack':'总量',\n",
    "           'label':{'show':True,'position':'insideRight'},'data':data2[::-1]}"
   ]
  },
  {
   "cell_type": "code",
   "execution_count": 81,
   "metadata": {},
   "outputs": [],
   "source": [
    "rating3 = {'name':'rating of 3','type':'bar','stack':'总量',\n",
    "           'label':{'show':True,'position':'insideRight'},'data':data3[::-1]}"
   ]
  },
  {
   "cell_type": "code",
   "execution_count": 82,
   "metadata": {},
   "outputs": [],
   "source": [
    "rating4 = {'name':'rating of 4','type':'bar','stack':'总量',\n",
    "           'label':{'show':True,'position':'insideRight'},'data':data4[::-1]}"
   ]
  },
  {
   "cell_type": "code",
   "execution_count": 83,
   "metadata": {},
   "outputs": [],
   "source": [
    "rating5 = {'name':'rating of 5','type':'bar','stack':'总量',\n",
    "           'label':{'show':True,'position':'insideRight'},'data':data5[::-1]}"
   ]
  },
  {
   "cell_type": "code",
   "execution_count": 84,
   "metadata": {},
   "outputs": [],
   "source": [
    "jsons = {'name':name[::-1],'rating1':rating1,'rating2':rating2,'rating3':rating3,'rating4':rating4,'rating5':rating5}"
   ]
  },
  {
   "cell_type": "code",
   "execution_count": 85,
   "metadata": {},
   "outputs": [
    {
     "data": {
      "text/plain": [
       "{'name': ['B0073YCGK8',\n",
       "  'B0049OXU1O',\n",
       "  'B003K5FPRU',\n",
       "  'B000ZIPHM8',\n",
       "  'B000UW1WW8',\n",
       "  'B00NN136NQ',\n",
       "  'B000A7B4D0',\n",
       "  'B004ZU09QQ',\n",
       "  'B00NQFSSWS',\n",
       "  'B00DUZ8LBW',\n",
       "  'B000W3JHHM',\n",
       "  'B007V7G5TU',\n",
       "  'B0052G51AQ',\n",
       "  'B001QFYDSI',\n",
       "  'B004NXUJ60',\n",
       "  'B005GSZB7I',\n",
       "  'B005GSZB9Q',\n",
       "  'B005GSZB3M',\n",
       "  'B0058CLNBU',\n",
       "  'B0055UBB4O',\n",
       "  'B0052G14E8'],\n",
       " 'rating1': {'name': 'rating of 1',\n",
       "  'type': 'bar',\n",
       "  'stack': '总量',\n",
       "  'label': {'show': True, 'position': 'insideRight'},\n",
       "  'data': [6,\n",
       "   14,\n",
       "   18,\n",
       "   17,\n",
       "   14,\n",
       "   5,\n",
       "   4,\n",
       "   4,\n",
       "   5,\n",
       "   0,\n",
       "   19,\n",
       "   10,\n",
       "   6,\n",
       "   20,\n",
       "   3,\n",
       "   7,\n",
       "   8,\n",
       "   11,\n",
       "   57,\n",
       "   9,\n",
       "   14]},\n",
       " 'rating2': {'name': 'rating of 2',\n",
       "  'type': 'bar',\n",
       "  'stack': '总量',\n",
       "  'label': {'show': True, 'position': 'insideRight'},\n",
       "  'data': [1, 4, 3, 5, 5, 1, 4, 1, 4, 2, 8, 4, 3, 1, 2, 6, 3, 7, 7, 3, 4]},\n",
       " 'rating3': {'name': 'rating of 3',\n",
       "  'type': 'bar',\n",
       "  'stack': '总量',\n",
       "  'label': {'show': True, 'position': 'insideRight'},\n",
       "  'data': [2, 2, 2, 1, 3, 6, 1, 2, 2, 1, 7, 4, 5, 2, 3, 4, 4, 2, 4, 8, 20]},\n",
       " 'rating4': {'name': 'rating of 4',\n",
       "  'type': 'bar',\n",
       "  'stack': '总量',\n",
       "  'label': {'show': True, 'position': 'insideRight'},\n",
       "  'data': [10,\n",
       "   1,\n",
       "   1,\n",
       "   1,\n",
       "   2,\n",
       "   6,\n",
       "   3,\n",
       "   7,\n",
       "   8,\n",
       "   4,\n",
       "   7,\n",
       "   12,\n",
       "   21,\n",
       "   5,\n",
       "   13,\n",
       "   13,\n",
       "   13,\n",
       "   16,\n",
       "   3,\n",
       "   26,\n",
       "   27]},\n",
       " 'rating5': {'name': 'rating of 5',\n",
       "  'type': 'bar',\n",
       "  'stack': '总量',\n",
       "  'label': {'show': True, 'position': 'insideRight'},\n",
       "  'data': [4,\n",
       "   3,\n",
       "   1,\n",
       "   2,\n",
       "   3,\n",
       "   10,\n",
       "   18,\n",
       "   16,\n",
       "   12,\n",
       "   25,\n",
       "   8,\n",
       "   26,\n",
       "   28,\n",
       "   37,\n",
       "   53,\n",
       "   46,\n",
       "   50,\n",
       "   43,\n",
       "   9,\n",
       "   37,\n",
       "   52]}}"
      ]
     },
     "execution_count": 85,
     "metadata": {},
     "output_type": "execute_result"
    }
   ],
   "source": [
    "jsons"
   ]
  },
  {
   "cell_type": "code",
   "execution_count": 86,
   "metadata": {},
   "outputs": [],
   "source": [
    "import json as js"
   ]
  },
  {
   "cell_type": "code",
   "execution_count": 87,
   "metadata": {},
   "outputs": [],
   "source": [
    "filename = 'microwave.json'\n",
    "with open(filename,'w') as f:\n",
    "    js.dump(jsons,f)"
   ]
  },
  {
   "cell_type": "code",
   "execution_count": null,
   "metadata": {},
   "outputs": [],
   "source": []
  },
  {
   "cell_type": "code",
   "execution_count": null,
   "metadata": {},
   "outputs": [],
   "source": []
  }
 ],
 "metadata": {
  "kernelspec": {
   "display_name": "TensorFlow-CPU-1.14.0",
   "language": "python",
   "name": "python3"
  },
  "language_info": {
   "codemirror_mode": {
    "name": "ipython",
    "version": 3
   },
   "file_extension": ".py",
   "mimetype": "text/x-python",
   "name": "python",
   "nbconvert_exporter": "python",
   "pygments_lexer": "ipython3",
   "version": "3.7.4"
  }
 },
 "nbformat": 4,
 "nbformat_minor": 2
}
