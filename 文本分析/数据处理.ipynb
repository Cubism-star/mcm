{
 "cells": [
  {
   "cell_type": "code",
   "execution_count": 15,
   "metadata": {},
   "outputs": [],
   "source": [
    "import pandas as pd\n",
    "import nltk\n",
    "import wordcloud\n",
    "\n",
    "from nltk.corpus import stopwords\n",
    "%matplotlib inline"
   ]
  },
  {
   "cell_type": "code",
   "execution_count": 3,
   "metadata": {},
   "outputs": [],
   "source": [
    "datas =pd.read_csv('microwave.tsv', sep='\\t')"
   ]
  },
  {
   "cell_type": "code",
   "execution_count": 3,
   "metadata": {},
   "outputs": [],
   "source": [
    "datas =pd.read_csv('pacifier.tsv', sep='\\t')"
   ]
  },
  {
   "cell_type": "code",
   "execution_count": 52,
   "metadata": {},
   "outputs": [],
   "source": [
    "datas =pd.read_csv('hair_dryer.tsv', sep='\\t')"
   ]
  },
  {
   "cell_type": "code",
   "execution_count": null,
   "metadata": {},
   "outputs": [],
   "source": [
    "datas.head()"
   ]
  },
  {
   "cell_type": "markdown",
   "metadata": {},
   "source": [
    "# 词云"
   ]
  },
  {
   "cell_type": "markdown",
   "metadata": {},
   "source": [
    "## 好评"
   ]
  },
  {
   "cell_type": "code",
   "execution_count": 5,
   "metadata": {},
   "outputs": [],
   "source": [
    "good_review = [ str(datas['review_body'][i]) for i in range(len(datas)) if (datas['star_rating'][i]==5)]"
   ]
  },
  {
   "cell_type": "code",
   "execution_count": 6,
   "metadata": {},
   "outputs": [],
   "source": [
    "all_review = \" \".join(good_review)"
   ]
  },
  {
   "cell_type": "code",
   "execution_count": 7,
   "metadata": {},
   "outputs": [
    {
     "data": {
      "text/plain": [
       "'3 of the buttons stopped working after a month of using it. It was used twice a day. Do not recommend it. go use your money for something more durable. Oh and also big plates do not fit in it.'"
      ]
     },
     "execution_count": 7,
     "metadata": {},
     "output_type": "execute_result"
    }
   ],
   "source": [
    "datas['review_body'][0]"
   ]
  },
  {
   "cell_type": "code",
   "execution_count": 8,
   "metadata": {},
   "outputs": [],
   "source": [
    "tokens = nltk.word_tokenize(all_review)"
   ]
  },
  {
   "cell_type": "code",
   "execution_count": 9,
   "metadata": {},
   "outputs": [],
   "source": [
    "word_freq = nltk.FreqDist(tokens)"
   ]
  },
  {
   "cell_type": "code",
   "execution_count": 10,
   "metadata": {},
   "outputs": [],
   "source": [
    "filtered = {k:w for k,w in word_freq.items() if(k not in stopwords.words('english'))}"
   ]
  },
  {
   "cell_type": "code",
   "execution_count": 11,
   "metadata": {},
   "outputs": [],
   "source": [
    "filtered = [k for k,w in filtered.items() if(w >50)]"
   ]
  },
  {
   "cell_type": "code",
   "execution_count": 12,
   "metadata": {},
   "outputs": [],
   "source": [
    "string = \" \".join(filtered)"
   ]
  },
  {
   "cell_type": "code",
   "execution_count": 41,
   "metadata": {},
   "outputs": [
    {
     "data": {
      "text/plain": [
       "<wordcloud.wordcloud.WordCloud at 0x1577eb8b0c8>"
      ]
     },
     "execution_count": 41,
     "metadata": {},
     "output_type": "execute_result"
    }
   ],
   "source": [
    "import wordcloud\n",
    "from random import randint\n",
    "def random_color_func(word=None, font_size=None, position=None,  orientation=None, font_path=None, random_state=None):\n",
    "        h  = randint(10,40)\n",
    "        s = int(100.0 * 255.0 / 255.0)\n",
    "        l = int(100.0 * float(randint(60, 120)) / 255.0)\n",
    "        return \"hsl({}, {}%, {}%)\".format(h, s, l)\n",
    "    \n",
    "w = wordcloud.WordCloud(width=1000,\n",
    "                        height=700,\n",
    "                        background_color='white',\n",
    "                        font_path='msyh.ttc',\n",
    "                         contour_width=1,\n",
    "                           color_func =random_color_func)\n",
    "\n",
    "w.generate(string)\n",
    "\n",
    "w.to_file('微波炉5星.png')"
   ]
  },
  {
   "cell_type": "code",
   "execution_count": 16,
   "metadata": {
    "scrolled": true
   },
   "outputs": [
    {
     "data": {
      "text/plain": [
       "<wordcloud.wordcloud.WordCloud at 0x2721f68e8c8>"
      ]
     },
     "execution_count": 16,
     "metadata": {},
     "output_type": "execute_result"
    }
   ],
   "source": [
    "from random import randint\n",
    "def random_color_func(word=None, font_size=None, position=None,  orientation=None, font_path=None, random_state=None):\n",
    "        h  = randint(10,20)\n",
    "        s = int(100.0 * 255.0 / 255.0)\n",
    "        l = int(100.0 * float(randint(60, 120)) / 255.0)\n",
    "        return \"hsl({}, {}%, {}%)\".format(h, s, l)\n",
    "# 导入imageio库中的imread函数，并用这个函数读取本地图片，作为词云形状图片\n",
    "\n",
    "import imageio\n",
    "mk = imageio.imread(\"microwave.jpg\")\n",
    "\n",
    "# 构建词云对象w，注意增加参数contour_width和contour_color设置轮廓宽度和颜色\n",
    "w = wordcloud.WordCloud(background_color=\"white\",\n",
    "                        mask=mk,\n",
    "                        contour_width=1,\n",
    "                        contour_color='steelblue',\n",
    "                       color_func =random_color_func,\n",
    "                       scale=20)\n",
    "\n",
    "# # 将string变量传入w的generate()方法，给词云输入文字\n",
    "w.generate(string)\n",
    "\n",
    "# 将词云图片导出到当前文件夹\n",
    "w.to_file('microwave5星inline.png')\n"
   ]
  },
  {
   "cell_type": "markdown",
   "metadata": {},
   "source": [
    "## 差评"
   ]
  },
  {
   "cell_type": "code",
   "execution_count": 17,
   "metadata": {},
   "outputs": [],
   "source": [
    "bad_review = [ datas['review_body'][i] \n",
    "               for i in range(len(datas)) if (datas['star_rating'][i]==1 or datas['star_rating'][i]==2)]"
   ]
  },
  {
   "cell_type": "code",
   "execution_count": 18,
   "metadata": {},
   "outputs": [],
   "source": [
    "bad_review_sentence = \" \".join(good_review)"
   ]
  },
  {
   "cell_type": "code",
   "execution_count": 19,
   "metadata": {},
   "outputs": [
    {
     "data": {
      "text/plain": [
       "'3 of the buttons stopped working after a month of using it. It was used twice a day. Do not recommend it. go use your money for something more durable. Oh and also big plates do not fit in it.'"
      ]
     },
     "execution_count": 19,
     "metadata": {},
     "output_type": "execute_result"
    }
   ],
   "source": [
    "bad_review[0]"
   ]
  },
  {
   "cell_type": "code",
   "execution_count": 20,
   "metadata": {},
   "outputs": [],
   "source": [
    "tokens = nltk.word_tokenize(bad_review_sentence)"
   ]
  },
  {
   "cell_type": "code",
   "execution_count": 21,
   "metadata": {},
   "outputs": [],
   "source": [
    "word_freq = nltk.FreqDist(tokens)"
   ]
  },
  {
   "cell_type": "code",
   "execution_count": 22,
   "metadata": {},
   "outputs": [],
   "source": [
    "filtered = {k:w for k,w in word_freq.items() if(k not in stopwords.words('english'))}"
   ]
  },
  {
   "cell_type": "code",
   "execution_count": 23,
   "metadata": {},
   "outputs": [],
   "source": [
    "filtered = [k for k,w in filtered.items() if(w >50)]"
   ]
  },
  {
   "cell_type": "code",
   "execution_count": 24,
   "metadata": {},
   "outputs": [],
   "source": [
    "string = \" \".join(filtered)"
   ]
  },
  {
   "cell_type": "code",
   "execution_count": 52,
   "metadata": {
    "scrolled": true
   },
   "outputs": [
    {
     "data": {
      "text/plain": [
       "<wordcloud.wordcloud.WordCloud at 0x1577eb48508>"
      ]
     },
     "execution_count": 52,
     "metadata": {},
     "output_type": "execute_result"
    }
   ],
   "source": [
    "import wordcloud\n",
    "from random import randint\n",
    "def random_color_func(word=None, font_size=None, position=None,  orientation=None, font_path=None, random_state=None):\n",
    "        h  = randint(210,240)\n",
    "        s = int(100.0 * 255.0 / 255.0)\n",
    "        l = int(100.0 * float(randint(60, 120)) / 255.0)\n",
    "        return \"hsl({}, {}%, {}%)\".format(h, s, l)\n",
    "    \n",
    "w = wordcloud.WordCloud(width=1400,\n",
    "                        height=1100,\n",
    "                        background_color='white',\n",
    "                        font_path='msyh.ttc',\n",
    "                         contour_width=1,\n",
    "                           color_func =random_color_func)\n",
    "\n",
    "w.generate(string)\n",
    "\n",
    "w.to_file('微波炉1-2星.png')"
   ]
  },
  {
   "cell_type": "code",
   "execution_count": 25,
   "metadata": {},
   "outputs": [
    {
     "data": {
      "text/plain": [
       "<wordcloud.wordcloud.WordCloud at 0x2721f63fcc8>"
      ]
     },
     "execution_count": 25,
     "metadata": {},
     "output_type": "execute_result"
    }
   ],
   "source": [
    "from random import randint\n",
    "def random_color_func(word=None, font_size=None, position=None,  orientation=None, font_path=None, random_state=None):\n",
    "        h  = randint(210,250)\n",
    "        s = int(100.0 * 255.0 / 255.0)\n",
    "        l = int(100.0 * float(randint(60, 120)) / 255.0)\n",
    "        return \"hsl({}, {}%, {}%)\".format(h, s, l)\n",
    "# 导入imageio库中的imread函数，并用这个函数读取本地图片，作为词云形状图片\n",
    "\n",
    "import imageio\n",
    "mk = imageio.imread(\"microwave.jpg\")\n",
    "\n",
    "# 构建词云对象w，注意增加参数contour_width和contour_color设置轮廓宽度和颜色\n",
    "w = wordcloud.WordCloud(background_color=\"white\",\n",
    "                        mask=mk,\n",
    "                        contour_width=1,\n",
    "                        contour_color='steelblue',\n",
    "                       color_func =random_color_func,\n",
    "                       scale=20)\n",
    "\n",
    "# # 将string变量传入w的generate()方法，给词云输入文字\n",
    "w.generate(string)\n",
    "\n",
    "# 将词云图片导出到当前文件夹\n",
    "w.to_file('microwave1-2星inline.png')\n"
   ]
  },
  {
   "cell_type": "markdown",
   "metadata": {},
   "source": [
    "# 堆叠条形图"
   ]
  },
  {
   "cell_type": "code",
   "execution_count": 71,
   "metadata": {},
   "outputs": [],
   "source": [
    "datas = datas.values"
   ]
  },
  {
   "cell_type": "code",
   "execution_count": 72,
   "metadata": {},
   "outputs": [
    {
     "data": {
      "text/plain": [
       "1615"
      ]
     },
     "execution_count": 72,
     "metadata": {},
     "output_type": "execute_result"
    }
   ],
   "source": [
    "len(datas)"
   ]
  },
  {
   "cell_type": "code",
   "execution_count": 73,
   "metadata": {},
   "outputs": [
    {
     "data": {
      "text/plain": [
       "array(['US', 21879631, 'RY52KZABZK8QF', 'B0052G14E8', 423421857,\n",
       "       'danby 0.7 cu.ft. countertop microwave', 'Major Appliances', 1, 0,\n",
       "       0, 'N', 'Y',\n",
       "       'Do not recommend it. go use your money for something more ...',\n",
       "       '3 of the buttons stopped working after a month of using it. It was used twice a day. Do not recommend it. go use your money for something more durable. Oh and also big plates do not fit in it.',\n",
       "       '8/31/2015'], dtype=object)"
      ]
     },
     "execution_count": 73,
     "metadata": {},
     "output_type": "execute_result"
    }
   ],
   "source": [
    "datas[0]"
   ]
  },
  {
   "cell_type": "code",
   "execution_count": 74,
   "metadata": {},
   "outputs": [],
   "source": [
    "product = {}\n",
    "product_count = {}\n",
    "for data in datas:\n",
    "    if data[3] not in product:\n",
    "        product[data[3]]=[0,0,0,0,0]\n",
    "        product_count[data[3]]=0\n",
    "    if data[3] in product:\n",
    "        product[data[3]][data[7]-1]+=1\n",
    "        product_count[data[3]]+=1"
   ]
  },
  {
   "cell_type": "code",
   "execution_count": 75,
   "metadata": {},
   "outputs": [
    {
     "data": {
      "text/plain": [
       "{'B0052G14E8': [14, 4, 20, 27, 52],\n",
       " 'B0055UBB4O': [9, 3, 8, 26, 37],\n",
       " 'B004ZU09QQ': [4, 1, 2, 7, 16],\n",
       " 'B005GSZB7I': [7, 6, 4, 13, 46],\n",
       " 'B001QFYDSI': [20, 1, 2, 5, 37],\n",
       " 'B004ZUWBVW': [4, 1, 0, 8, 8],\n",
       " 'B007V7G5TU': [10, 4, 4, 12, 26],\n",
       " 'B005GSZB9Q': [8, 3, 4, 13, 50],\n",
       " 'B004NXUJ60': [3, 2, 3, 13, 53],\n",
       " 'B007XZ8FNO': [12, 1, 1, 1, 0],\n",
       " 'B00NXRHIO8': [1, 0, 0, 4, 8],\n",
       " 'B00NQFSSWS': [5, 4, 2, 8, 12],\n",
       " 'B008MD2RH6': [1, 2, 1, 8, 5],\n",
       " 'B00DUZ8LBW': [0, 2, 1, 4, 25],\n",
       " 'B00NG0FP7E': [2, 1, 1, 2, 7],\n",
       " 'B0052G51AQ': [6, 3, 5, 21, 28],\n",
       " 'B005GSZB3M': [11, 7, 2, 16, 43],\n",
       " 'B003KI1W3I': [0, 0, 1, 3, 15],\n",
       " 'B00EU7AMX4': [3, 1, 2, 3, 7],\n",
       " 'B000W3JHHM': [19, 8, 7, 7, 8],\n",
       " 'B0043GDSR4': [5, 1, 1, 1, 5],\n",
       " 'B0073YCGK8': [6, 1, 2, 10, 4],\n",
       " 'B00009V3X6': [3, 1, 2, 6, 8],\n",
       " 'B002I9QFNC': [7, 2, 1, 2, 0],\n",
       " 'B0073YCGPI': [2, 0, 3, 2, 12],\n",
       " 'B00NN136NQ': [5, 1, 6, 6, 10],\n",
       " 'B00012ORT2': [0, 2, 4, 5, 12],\n",
       " 'B008F07MPS': [2, 2, 1, 6, 3],\n",
       " 'B00012ORSS': [1, 0, 4, 2, 15],\n",
       " 'B0024SLF3M': [0, 0, 0, 1, 1],\n",
       " 'b00xyve4b8': [0, 0, 0, 1, 0],\n",
       " 'b00kj07sem': [0, 0, 0, 1, 0],\n",
       " 'b005dnsdey': [0, 0, 0, 0, 1],\n",
       " 'b001yqgdtq': [1, 0, 0, 0, 0],\n",
       " 'b00b2npkrm': [0, 0, 0, 1, 0],\n",
       " 'B0058CLNBU': [57, 7, 4, 3, 9],\n",
       " 'B0011YHN7M': [9, 1, 0, 0, 0],\n",
       " 'B000ZIPHM8': [17, 5, 1, 1, 2],\n",
       " 'B00G4CV606': [0, 0, 1, 2, 8],\n",
       " 'B00413662I': [1, 0, 1, 3, 9],\n",
       " 'B00009V3WT': [1, 0, 0, 2, 11],\n",
       " 'B003K5FPRU': [18, 3, 2, 1, 1],\n",
       " 'B005OW6RFG': [11, 0, 1, 1, 2],\n",
       " 'B002Z8041A': [20, 1, 0, 0, 0],\n",
       " 'B005JA0AII': [5, 1, 3, 1, 1],\n",
       " 'B008MD2RUS': [1, 0, 1, 1, 0],\n",
       " 'B004YKDYVE': [2, 0, 1, 4, 6],\n",
       " 'B000UW1WW8': [14, 5, 3, 2, 3],\n",
       " 'B0058CLNC4': [4, 4, 2, 0, 4],\n",
       " 'B00009V3X7': [0, 1, 1, 0, 0],\n",
       " 'B002KPM7L8': [10, 2, 1, 2, 0],\n",
       " 'B0019C87BW': [2, 1, 0, 1, 0],\n",
       " 'B0019CADPK': [4, 1, 1, 2, 2],\n",
       " 'B002X7669C': [7, 1, 3, 2, 2],\n",
       " 'B001C3789A': [8, 0, 1, 0, 3],\n",
       " 'B0049OXU1O': [14, 4, 2, 1, 3],\n",
       " 'B001DEI9LY': [1, 0, 2, 1, 8],\n",
       " 'b002e1geks': [0, 0, 0, 0, 1],\n",
       " 'b00eovf0jm': [0, 0, 0, 0, 1],\n",
       " 'B0011YFKMC': [5, 1, 2, 2, 2],\n",
       " 'B000A7B4D0': [4, 4, 1, 3, 18],\n",
       " 'B001QFYDQK': [2, 1, 1, 1, 2],\n",
       " 'B007PKGV88': [0, 0, 0, 0, 1],\n",
       " 'B0019C87BC': [4, 0, 0, 2, 0],\n",
       " 'B000W3PH1W': [1, 0, 0, 6, 6],\n",
       " 'B0018YR762': [0, 0, 0, 1, 1],\n",
       " 'B003XSST4A': [1, 0, 0, 1, 2],\n",
       " 'B000PUKLRM': [1, 0, 0, 0, 0],\n",
       " 'B000BQRHNQ': [0, 0, 0, 0, 1],\n",
       " 'B004YKEV20': [1, 0, 0, 0, 0],\n",
       " 'B005JAVD3Y': [0, 0, 0, 1, 0],\n",
       " 'B005GM942C': [0, 0, 0, 1, 0],\n",
       " 'B0002YTM0I': [0, 0, 1, 0, 0],\n",
       " 'B00009V3X8': [2, 1, 2, 1, 0],\n",
       " 'B0018YNRIO': [0, 0, 0, 2, 2],\n",
       " 'B001AF6J0Y': [2, 2, 1, 0, 2],\n",
       " 'B001B8J9Y8': [1, 0, 0, 0, 0],\n",
       " 'B001B8OAOM': [0, 0, 0, 1, 0],\n",
       " 'B00009V3WS': [0, 1, 1, 1, 0],\n",
       " 'B00009V3WZ': [1, 1, 0, 2, 0]}"
      ]
     },
     "execution_count": 75,
     "metadata": {},
     "output_type": "execute_result"
    }
   ],
   "source": [
    "product"
   ]
  },
  {
   "cell_type": "code",
   "execution_count": 76,
   "metadata": {},
   "outputs": [
    {
     "name": "stdout",
     "output_type": "stream",
     "text": [
      "B0052G14E8\n",
      "B0055UBB4O\n",
      "B005GSZB7I\n",
      "B001QFYDSI\n",
      "B007V7G5TU\n",
      "B005GSZB9Q\n",
      "B004NXUJ60\n",
      "B00NQFSSWS\n",
      "B00DUZ8LBW\n",
      "B0052G51AQ\n",
      "B005GSZB3M\n",
      "B000W3JHHM\n",
      "B0058CLNBU\n"
     ]
    }
   ],
   "source": [
    "for k,w in product_count.items():\n",
    "    if w >30:\n",
    "        print(k)"
   ]
  },
  {
   "cell_type": "code",
   "execution_count": 77,
   "metadata": {},
   "outputs": [],
   "source": [
    "data1=[]\n",
    "data2=[]\n",
    "data3=[]\n",
    "data4=[]\n",
    "data5=[]\n",
    "name= []\n",
    "for k,v in enumerate(sorted(product_count,key=product_count.__getitem__,reverse=True)):\n",
    "    if k >20:\n",
    "        break\n",
    "    data1.append(product[v][0])\n",
    "    data2.append(product[v][1])\n",
    "    data3.append(product[v][2])\n",
    "    data4.append(product[v][3])\n",
    "    data5.append(product[v][4])\n",
    "    name.append(v)\n"
   ]
  },
  {
   "cell_type": "code",
   "execution_count": 78,
   "metadata": {
    "scrolled": true
   },
   "outputs": [
    {
     "data": {
      "text/plain": [
       "21"
      ]
     },
     "execution_count": 78,
     "metadata": {},
     "output_type": "execute_result"
    }
   ],
   "source": [
    "len(name)"
   ]
  },
  {
   "cell_type": "code",
   "execution_count": 79,
   "metadata": {},
   "outputs": [],
   "source": [
    "rating1 = {'name':'rating of 1','type':'bar','stack':'总量',\n",
    "           'label':{'show':True,'position':'insideRight'},'data':data1[::-1]}"
   ]
  },
  {
   "cell_type": "code",
   "execution_count": 80,
   "metadata": {},
   "outputs": [],
   "source": [
    "rating2 = {'name':'rating of 2','type':'bar','stack':'总量',\n",
    "           'label':{'show':True,'position':'insideRight'},'data':data2[::-1]}"
   ]
  },
  {
   "cell_type": "code",
   "execution_count": 81,
   "metadata": {},
   "outputs": [],
   "source": [
    "rating3 = {'name':'rating of 3','type':'bar','stack':'总量',\n",
    "           'label':{'show':True,'position':'insideRight'},'data':data3[::-1]}"
   ]
  },
  {
   "cell_type": "code",
   "execution_count": 82,
   "metadata": {},
   "outputs": [],
   "source": [
    "rating4 = {'name':'rating of 4','type':'bar','stack':'总量',\n",
    "           'label':{'show':True,'position':'insideRight'},'data':data4[::-1]}"
   ]
  },
  {
   "cell_type": "code",
   "execution_count": 83,
   "metadata": {},
   "outputs": [],
   "source": [
    "rating5 = {'name':'rating of 5','type':'bar','stack':'总量',\n",
    "           'label':{'show':True,'position':'insideRight'},'data':data5[::-1]}"
   ]
  },
  {
   "cell_type": "code",
   "execution_count": 84,
   "metadata": {},
   "outputs": [],
   "source": [
    "jsons = {'name':name[::-1],'rating1':rating1,'rating2':rating2,'rating3':rating3,'rating4':rating4,'rating5':rating5}"
   ]
  },
  {
   "cell_type": "code",
   "execution_count": 85,
   "metadata": {},
   "outputs": [
    {
     "data": {
      "text/plain": [
       "{'name': ['B0073YCGK8',\n",
       "  'B0049OXU1O',\n",
       "  'B003K5FPRU',\n",
       "  'B000ZIPHM8',\n",
       "  'B000UW1WW8',\n",
       "  'B00NN136NQ',\n",
       "  'B000A7B4D0',\n",
       "  'B004ZU09QQ',\n",
       "  'B00NQFSSWS',\n",
       "  'B00DUZ8LBW',\n",
       "  'B000W3JHHM',\n",
       "  'B007V7G5TU',\n",
       "  'B0052G51AQ',\n",
       "  'B001QFYDSI',\n",
       "  'B004NXUJ60',\n",
       "  'B005GSZB7I',\n",
       "  'B005GSZB9Q',\n",
       "  'B005GSZB3M',\n",
       "  'B0058CLNBU',\n",
       "  'B0055UBB4O',\n",
       "  'B0052G14E8'],\n",
       " 'rating1': {'name': 'rating of 1',\n",
       "  'type': 'bar',\n",
       "  'stack': '总量',\n",
       "  'label': {'show': True, 'position': 'insideRight'},\n",
       "  'data': [6,\n",
       "   14,\n",
       "   18,\n",
       "   17,\n",
       "   14,\n",
       "   5,\n",
       "   4,\n",
       "   4,\n",
       "   5,\n",
       "   0,\n",
       "   19,\n",
       "   10,\n",
       "   6,\n",
       "   20,\n",
       "   3,\n",
       "   7,\n",
       "   8,\n",
       "   11,\n",
       "   57,\n",
       "   9,\n",
       "   14]},\n",
       " 'rating2': {'name': 'rating of 2',\n",
       "  'type': 'bar',\n",
       "  'stack': '总量',\n",
       "  'label': {'show': True, 'position': 'insideRight'},\n",
       "  'data': [1, 4, 3, 5, 5, 1, 4, 1, 4, 2, 8, 4, 3, 1, 2, 6, 3, 7, 7, 3, 4]},\n",
       " 'rating3': {'name': 'rating of 3',\n",
       "  'type': 'bar',\n",
       "  'stack': '总量',\n",
       "  'label': {'show': True, 'position': 'insideRight'},\n",
       "  'data': [2, 2, 2, 1, 3, 6, 1, 2, 2, 1, 7, 4, 5, 2, 3, 4, 4, 2, 4, 8, 20]},\n",
       " 'rating4': {'name': 'rating of 4',\n",
       "  'type': 'bar',\n",
       "  'stack': '总量',\n",
       "  'label': {'show': True, 'position': 'insideRight'},\n",
       "  'data': [10,\n",
       "   1,\n",
       "   1,\n",
       "   1,\n",
       "   2,\n",
       "   6,\n",
       "   3,\n",
       "   7,\n",
       "   8,\n",
       "   4,\n",
       "   7,\n",
       "   12,\n",
       "   21,\n",
       "   5,\n",
       "   13,\n",
       "   13,\n",
       "   13,\n",
       "   16,\n",
       "   3,\n",
       "   26,\n",
       "   27]},\n",
       " 'rating5': {'name': 'rating of 5',\n",
       "  'type': 'bar',\n",
       "  'stack': '总量',\n",
       "  'label': {'show': True, 'position': 'insideRight'},\n",
       "  'data': [4,\n",
       "   3,\n",
       "   1,\n",
       "   2,\n",
       "   3,\n",
       "   10,\n",
       "   18,\n",
       "   16,\n",
       "   12,\n",
       "   25,\n",
       "   8,\n",
       "   26,\n",
       "   28,\n",
       "   37,\n",
       "   53,\n",
       "   46,\n",
       "   50,\n",
       "   43,\n",
       "   9,\n",
       "   37,\n",
       "   52]}}"
      ]
     },
     "execution_count": 85,
     "metadata": {},
     "output_type": "execute_result"
    }
   ],
   "source": [
    "jsons"
   ]
  },
  {
   "cell_type": "code",
   "execution_count": 86,
   "metadata": {},
   "outputs": [],
   "source": [
    "import json as js"
   ]
  },
  {
   "cell_type": "code",
   "execution_count": 87,
   "metadata": {},
   "outputs": [],
   "source": [
    "filename = 'microwave.json'\n",
    "with open(filename,'w') as f:\n",
    "    js.dump(jsons,f)"
   ]
  },
  {
   "cell_type": "code",
   "execution_count": null,
   "metadata": {},
   "outputs": [],
   "source": []
  },
  {
   "cell_type": "code",
   "execution_count": null,
   "metadata": {},
   "outputs": [],
   "source": []
  }
 ],
 "metadata": {
  "kernelspec": {
   "display_name": "Python 3",
   "language": "python",
   "name": "python3"
  },
  "language_info": {
   "codemirror_mode": {
    "name": "ipython",
    "version": 3
   },
   "file_extension": ".py",
   "mimetype": "text/x-python",
   "name": "python",
   "nbconvert_exporter": "python",
   "pygments_lexer": "ipython3",
   "version": "3.7.4"
  }
 },
 "nbformat": 4,
 "nbformat_minor": 2
}
