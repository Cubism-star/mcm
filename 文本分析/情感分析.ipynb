{
 "cells": [
  {
   "cell_type": "code",
   "execution_count": 2,
   "metadata": {},
   "outputs": [
    {
     "name": "stdout",
     "output_type": "stream",
     "text": [
      "blob对象\n",
      "I am happy today. I feel sad today.\n",
      "第一句情感分析\n",
      "Sentiment(polarity=0.8, subjectivity=1.0)\n",
      "第二句情感分析\n",
      "Sentiment(polarity=-0.5, subjectivity=1.0)\n",
      "总体\n",
      "[Sentence(\"I am happy today.\"), Sentence(\"I feel sad today.\")]\n"
     ]
    }
   ],
   "source": [
    "from textblob import TextBlob\n",
    "text = \"I am happy today. I feel sad today.\"\n",
    "blob = TextBlob(text)\n",
    "#分句\n",
    "print(\"blob对象\")\n",
    "print(blob)\n",
    " \n",
    "blob = blob.sentences\n",
    "#第一句的情感分析\n",
    "print(\"第一句情感分析\")\n",
    "first = blob[0].sentiment\n",
    "print(first)\n",
    "#第二句的情感分析\n",
    "print(\"第二句情感分析\")\n",
    "second = blob[1].sentiment\n",
    "print(second)\n",
    "#总的\n",
    "print(\"总体\")\n",
    "print(blob)"
   ]
  },
  {
   "cell_type": "code",
   "execution_count": 3,
   "metadata": {},
   "outputs": [],
   "source": [
    "import nltk\n",
    "from nltk.sentiment.vader import SentimentIntensityAnalyzer\n",
    "\n",
    "def IdentifySentiment(sentence):\n",
    "    sia = SentimentIntensityAnalyzer()\n",
    "    ps = sia.polarity_scores(sentence)\n",
    "    for i in ps:\n",
    "        print(i, ps[i])\n",
    "        "
   ]
  },
  {
   "cell_type": "code",
   "execution_count": 7,
   "metadata": {},
   "outputs": [
    {
     "name": "stdout",
     "output_type": "stream",
     "text": [
      "neg 0.0\n",
      "neu 0.351\n",
      "pos 0.649\n",
      "compound 0.5719\n"
     ]
    }
   ],
   "source": [
    "IdentifySentiment('I am happy today. ')"
   ]
  },
  {
   "cell_type": "code",
   "execution_count": 8,
   "metadata": {},
   "outputs": [
    {
     "name": "stdout",
     "output_type": "stream",
     "text": [
      "neg 0.608\n",
      "neu 0.392\n",
      "pos 0.0\n",
      "compound -0.4767\n"
     ]
    }
   ],
   "source": [
    "IdentifySentiment('I feel sad today ')"
   ]
  },
  {
   "cell_type": "code",
   "execution_count": null,
   "metadata": {},
   "outputs": [],
   "source": []
  }
 ],
 "metadata": {
  "kernelspec": {
   "display_name": "Python 3",
   "language": "python",
   "name": "python3"
  },
  "language_info": {
   "codemirror_mode": {
    "name": "ipython",
    "version": 3
   },
   "file_extension": ".py",
   "mimetype": "text/x-python",
   "name": "python",
   "nbconvert_exporter": "python",
   "pygments_lexer": "ipython3",
   "version": "3.7.4"
  }
 },
 "nbformat": 4,
 "nbformat_minor": 2
}
